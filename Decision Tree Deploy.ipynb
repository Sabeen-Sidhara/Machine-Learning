{
 "cells": [
  {
   "cell_type": "code",
   "execution_count": 1,
   "id": "d4f533b8-2fe1-4aa0-ba0f-7dafb050edc8",
   "metadata": {},
   "outputs": [],
   "source": [
    "import pickle  "
   ]
  },
  {
   "cell_type": "code",
   "execution_count": 2,
   "id": "eec4b8a7-9382-442a-9730-0dc19a7e9dcf",
   "metadata": {},
   "outputs": [
    {
     "name": "stderr",
     "output_type": "stream",
     "text": [
      "C:\\sabeen\\anaconda3\\Lib\\site-packages\\sklearn\\base.py:493: UserWarning: X does not have valid feature names, but DecisionTreeRegressor was fitted with feature names\n",
      "  warnings.warn(\n"
     ]
    }
   ],
   "source": [
    "loaded_model=pickle.load(open(\"finalized_model_Mul_linear.sav\",'rb'))\n",
    "result=loaded_model.predict([[3454,45643,4443,1,0 ]])"
   ]
  },
  {
   "cell_type": "code",
   "execution_count": 3,
   "id": "af59fd36-6e62-4124-b625-8a23585f39bc",
   "metadata": {},
   "outputs": [
    {
     "data": {
      "text/plain": [
       "array([49490.75])"
      ]
     },
     "execution_count": 3,
     "metadata": {},
     "output_type": "execute_result"
    }
   ],
   "source": [
    "result"
   ]
  }
 ],
 "metadata": {
  "kernelspec": {
   "display_name": "Python 3 (ipykernel)",
   "language": "python",
   "name": "python3"
  },
  "language_info": {
   "codemirror_mode": {
    "name": "ipython",
    "version": 3
   },
   "file_extension": ".py",
   "mimetype": "text/x-python",
   "name": "python",
   "nbconvert_exporter": "python",
   "pygments_lexer": "ipython3",
   "version": "3.12.4"
  }
 },
 "nbformat": 4,
 "nbformat_minor": 5
}
